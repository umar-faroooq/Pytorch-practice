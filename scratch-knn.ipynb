{
 "cells": [
  {
   "cell_type": "code",
   "execution_count": 20,
   "id": "7c828aa0",
   "metadata": {},
   "outputs": [],
   "source": [
    "import numpy as np\n",
    "\n",
    "araay = np.random.rand(100)\n",
    "# araay"
   ]
  },
  {
   "cell_type": "code",
   "execution_count": null,
   "id": "073cd79a",
   "metadata": {},
   "outputs": [],
   "source": []
  },
  {
   "cell_type": "code",
   "execution_count": 21,
   "id": "be01f4f6",
   "metadata": {},
   "outputs": [],
   "source": [
    "new_array = araay.reshape(20,5)\n",
    "# new_array"
   ]
  },
  {
   "cell_type": "code",
   "execution_count": 22,
   "id": "0129ed81",
   "metadata": {},
   "outputs": [],
   "source": [
    "# X = new_array[:, :4]"
   ]
  },
  {
   "cell_type": "code",
   "execution_count": 23,
   "id": "d77c853a",
   "metadata": {},
   "outputs": [],
   "source": [
    "# X"
   ]
  },
  {
   "cell_type": "code",
   "execution_count": 24,
   "id": "a23b5c3d",
   "metadata": {},
   "outputs": [],
   "source": [
    "# Y = new_array[:, 4:]"
   ]
  },
  {
   "cell_type": "code",
   "execution_count": 25,
   "id": "7ea6c242",
   "metadata": {},
   "outputs": [
    {
     "data": {
      "text/plain": [
       "array([0, 1, 1, 1, 0, 1, 0, 0, 1, 1, 1, 1, 0, 0, 1, 1, 0, 0, 1, 0])"
      ]
     },
     "execution_count": 25,
     "metadata": {},
     "output_type": "execute_result"
    }
   ],
   "source": [
    "target = np.random.randint(0, 2, 20)\n",
    "target"
   ]
  },
  {
   "cell_type": "code",
   "execution_count": 26,
   "id": "da751bc7",
   "metadata": {},
   "outputs": [],
   "source": [
    "# new_array[:, -1] = target.flatten()"
   ]
  },
  {
   "cell_type": "code",
   "execution_count": 27,
   "id": "c6f36249",
   "metadata": {},
   "outputs": [
    {
     "data": {
      "text/plain": [
       "array([[5.59267221e-01, 6.51641356e-01, 6.92432646e-01, 5.12320956e-01,\n",
       "        2.31231774e-01, 0.00000000e+00],\n",
       "       [8.50195087e-01, 5.34868287e-01, 1.12119504e-01, 3.88343430e-02,\n",
       "        6.43169129e-01, 1.00000000e+00],\n",
       "       [3.96607802e-01, 7.96811795e-01, 1.04657790e-02, 8.80165689e-01,\n",
       "        1.66357842e-01, 1.00000000e+00],\n",
       "       [3.64414614e-02, 9.97085403e-01, 1.52394188e-04, 7.62255870e-01,\n",
       "        8.75960490e-01, 1.00000000e+00],\n",
       "       [5.70613288e-01, 4.54200629e-01, 6.02130893e-01, 9.99623206e-01,\n",
       "        7.29534221e-01, 0.00000000e+00],\n",
       "       [2.47936334e-01, 9.52009656e-01, 4.15226190e-01, 5.24876611e-01,\n",
       "        4.52153317e-01, 1.00000000e+00],\n",
       "       [1.29052905e-01, 9.95365389e-01, 5.97160074e-02, 7.21798346e-01,\n",
       "        2.00171084e-01, 0.00000000e+00],\n",
       "       [7.25050898e-01, 2.89381684e-02, 2.29130793e-01, 3.21297693e-01,\n",
       "        8.09667837e-01, 0.00000000e+00],\n",
       "       [8.76828763e-01, 5.42917604e-01, 3.83366739e-01, 4.97977819e-01,\n",
       "        9.07185241e-01, 1.00000000e+00],\n",
       "       [6.26585297e-01, 6.85389468e-01, 2.16250569e-01, 2.72461162e-01,\n",
       "        5.56777948e-02, 1.00000000e+00],\n",
       "       [5.45206266e-01, 3.34968429e-01, 9.64574925e-01, 1.42431471e-01,\n",
       "        4.09471680e-01, 1.00000000e+00],\n",
       "       [3.32279348e-01, 1.38727818e-01, 1.34036617e-01, 4.23727455e-01,\n",
       "        1.41706643e-01, 1.00000000e+00],\n",
       "       [2.79904563e-01, 1.17099268e-01, 1.67787519e-01, 9.16382844e-01,\n",
       "        9.35904876e-01, 0.00000000e+00],\n",
       "       [6.53448054e-01, 4.06802481e-01, 6.11799212e-01, 8.27328052e-01,\n",
       "        2.19463975e-01, 0.00000000e+00],\n",
       "       [4.18246411e-01, 1.86239923e-01, 6.74301839e-01, 1.35841819e-01,\n",
       "        2.34147438e-01, 1.00000000e+00],\n",
       "       [2.30018379e-01, 3.90599755e-01, 1.90924489e-01, 1.42183642e-01,\n",
       "        6.70575133e-01, 1.00000000e+00],\n",
       "       [6.39291775e-01, 8.29045190e-01, 7.00656818e-01, 5.00088755e-01,\n",
       "        7.93092408e-01, 0.00000000e+00],\n",
       "       [6.70015680e-01, 1.30283737e-01, 4.64933651e-01, 7.77083839e-01,\n",
       "        9.26778841e-01, 0.00000000e+00],\n",
       "       [3.86151027e-01, 1.36077501e-02, 4.16691651e-01, 5.61923062e-01,\n",
       "        5.65756796e-01, 1.00000000e+00],\n",
       "       [4.84286029e-01, 2.53989905e-01, 5.08716446e-01, 9.15971181e-01,\n",
       "        2.45450217e-01, 0.00000000e+00]])"
      ]
     },
     "execution_count": 27,
     "metadata": {},
     "output_type": "execute_result"
    }
   ],
   "source": [
    "# new_array.append(target, axis=0)\n",
    "new_array = np.hstack((new_array, target[:, None]))\n",
    "new_array"
   ]
  },
  {
   "cell_type": "code",
   "execution_count": 62,
   "id": "abf9df04",
   "metadata": {},
   "outputs": [],
   "source": [
    "X = new_array[:, :-1]\n",
    "Y = new_array[:, -1]"
   ]
  },
  {
   "cell_type": "code",
   "execution_count": 63,
   "id": "15ce4a45",
   "metadata": {},
   "outputs": [],
   "source": [
    "train_index = int(0.80*len(X))"
   ]
  },
  {
   "cell_type": "code",
   "execution_count": 64,
   "id": "043cacf2",
   "metadata": {},
   "outputs": [
    {
     "data": {
      "text/plain": [
       "16"
      ]
     },
     "execution_count": 64,
     "metadata": {},
     "output_type": "execute_result"
    }
   ],
   "source": [
    "train_index"
   ]
  },
  {
   "cell_type": "code",
   "execution_count": 65,
   "id": "99cbfc31",
   "metadata": {},
   "outputs": [],
   "source": [
    "X_train, y_train = X[:16 :], X[16: :]"
   ]
  },
  {
   "cell_type": "code",
   "execution_count": 66,
   "id": "8581e019",
   "metadata": {},
   "outputs": [
    {
     "data": {
      "text/plain": [
       "(16, 4)"
      ]
     },
     "execution_count": 66,
     "metadata": {},
     "output_type": "execute_result"
    }
   ],
   "source": [
    "len(X_train), len(y_train)"
   ]
  },
  {
   "cell_type": "code",
   "execution_count": 67,
   "id": "ac75bada",
   "metadata": {},
   "outputs": [
    {
     "data": {
      "text/plain": [
       "((16, 5), (4, 5))"
      ]
     },
     "execution_count": 67,
     "metadata": {},
     "output_type": "execute_result"
    }
   ],
   "source": [
    "X_train.shape, y_train.shape"
   ]
  },
  {
   "cell_type": "code",
   "execution_count": 43,
   "id": "0e7311ad",
   "metadata": {},
   "outputs": [],
   "source": [
    "X_test, y_test = Y[:16 :], Y[16: :]"
   ]
  },
  {
   "cell_type": "code",
   "execution_count": 68,
   "id": "f3f837e8",
   "metadata": {},
   "outputs": [
    {
     "data": {
      "text/plain": [
       "((16,), (4,))"
      ]
     },
     "execution_count": 68,
     "metadata": {},
     "output_type": "execute_result"
    }
   ],
   "source": [
    "X_test.shape, y_test.shape"
   ]
  },
  {
   "cell_type": "code",
   "execution_count": 71,
   "id": "1d21a7f1",
   "metadata": {},
   "outputs": [
    {
     "data": {
      "text/plain": [
       "array([0., 1., 1., 1., 0., 1., 0., 0., 1., 1., 1., 1., 0., 0., 1., 1.])"
      ]
     },
     "execution_count": 71,
     "metadata": {},
     "output_type": "execute_result"
    }
   ],
   "source": [
    "X_test.reshape(16,1)\n",
    "X_test"
   ]
  },
  {
   "cell_type": "code",
   "execution_count": 72,
   "id": "8d909aa9",
   "metadata": {},
   "outputs": [
    {
     "data": {
      "text/plain": [
       "(16, 4)"
      ]
     },
     "execution_count": 72,
     "metadata": {},
     "output_type": "execute_result"
    }
   ],
   "source": [
    "len(X_test), (len(y_test))"
   ]
  },
  {
   "cell_type": "code",
   "execution_count": 73,
   "id": "36f8cb7d",
   "metadata": {},
   "outputs": [
    {
     "data": {
      "text/plain": [
       "(16,)"
      ]
     },
     "execution_count": 73,
     "metadata": {},
     "output_type": "execute_result"
    }
   ],
   "source": [
    "X_test.shape"
   ]
  },
  {
   "cell_type": "code",
   "execution_count": 74,
   "id": "c8c5e077",
   "metadata": {},
   "outputs": [
    {
     "data": {
      "text/plain": [
       "(4, 5)"
      ]
     },
     "execution_count": 74,
     "metadata": {},
     "output_type": "execute_result"
    }
   ],
   "source": [
    "# X_train, X_test = X[:split_index], X[split_index:]\n",
    "# y_train, y_test = y[:split_index], y[split_index:]\n",
    "y_train.shape"
   ]
  },
  {
   "cell_type": "code",
   "execution_count": 75,
   "id": "52489c96",
   "metadata": {},
   "outputs": [],
   "source": [
    "def euclidean_distance(x1, x2):\n",
    "  return np.sqrt(np.sum((x1-x2)**2))"
   ]
  },
  {
   "cell_type": "code",
   "execution_count": 76,
   "id": "e28c906c",
   "metadata": {},
   "outputs": [],
   "source": [
    "def knn(X_train, y_train, X_test, k):\n",
    "    y_pred = []\n",
    "\n",
    "    for test_point in X_test:\n",
    "        distances = [euclidean_distance(test_point, train_point) for train_point in X_train]\n",
    "        k_nearest_indices = np.argsort(distances)[:k]\n",
    "        k_nearest_labels = [y_train[i] for i in k_nearest_indices]\n",
    "        # Predict the label based on the majority class among the k-nearest neighbors\n",
    "        pred_label = max(set(k_nearest_labels), key=k_nearest_labels.count)\n",
    "        y_pred.append(pred_label)\n",
    "\n",
    "    return np.array(y_pred)"
   ]
  },
  {
   "cell_type": "code",
   "execution_count": 82,
   "id": "f0a16ec1",
   "metadata": {},
   "outputs": [],
   "source": [
    "def knn_classify(x_train, y_train, x_test, k):\n",
    "    distances = np.linalg.norm(x_train - x_test, axis=1)\n",
    "\n",
    "  # Find the K most similar training data points to each test data point.\n",
    "    nearest_neighbors = np.argsort(distances)[:, :k]\n",
    "\n",
    "  # Predict the label of each test data point by taking the majority vote of the labels of the K most similar training data points.\n",
    "    predicted_labels = y_train[nearest_neighbors]\n",
    "    mode, _ = np.unique(predicted_labels, axis=1, return_counts=True)\n",
    "    return mode"
   ]
  },
  {
   "cell_type": "code",
   "execution_count": 83,
   "id": "c9a2b16a",
   "metadata": {},
   "outputs": [
    {
     "ename": "ValueError",
     "evalue": "cannot reshape array of size 16 into shape (16,5)",
     "output_type": "error",
     "traceback": [
      "\u001b[0;31m---------------------------------------------------------------------------\u001b[0m",
      "\u001b[0;31mValueError\u001b[0m                                Traceback (most recent call last)",
      "Cell \u001b[0;32mIn[83], line 4\u001b[0m\n\u001b[1;32m      2\u001b[0m k \u001b[38;5;241m=\u001b[39m \u001b[38;5;241m3\u001b[39m\n\u001b[1;32m      3\u001b[0m \u001b[38;5;66;03m# y_pred = knn(X_train, y_train, X_test, k)\u001b[39;00m\n\u001b[0;32m----> 4\u001b[0m y_pred1 \u001b[38;5;241m=\u001b[39m knn_classify(X_train, y_train, X_test, k) \n\u001b[1;32m      5\u001b[0m \u001b[38;5;66;03m# Calculate accuracy\u001b[39;00m\n\u001b[1;32m      6\u001b[0m accuracy \u001b[38;5;241m=\u001b[39m np\u001b[38;5;241m.\u001b[39mmean(y_pred \u001b[38;5;241m==\u001b[39m y_test)\n",
      "Cell \u001b[0;32mIn[82], line 2\u001b[0m, in \u001b[0;36mknn_classify\u001b[0;34m(x_train, y_train, x_test, k)\u001b[0m\n\u001b[1;32m      1\u001b[0m \u001b[38;5;28;01mdef\u001b[39;00m \u001b[38;5;21mknn_classify\u001b[39m(x_train, y_train, x_test, k):\n\u001b[0;32m----> 2\u001b[0m     x_test \u001b[38;5;241m=\u001b[39m x_test\u001b[38;5;241m.\u001b[39mreshape((x_test\u001b[38;5;241m.\u001b[39mshape[\u001b[38;5;241m0\u001b[39m], x_train\u001b[38;5;241m.\u001b[39mshape[\u001b[38;5;241m1\u001b[39m]))\n\u001b[1;32m      3\u001b[0m     distances \u001b[38;5;241m=\u001b[39m np\u001b[38;5;241m.\u001b[39mlinalg\u001b[38;5;241m.\u001b[39mnorm(x_train \u001b[38;5;241m-\u001b[39m x_test, axis\u001b[38;5;241m=\u001b[39m\u001b[38;5;241m1\u001b[39m)\n\u001b[1;32m      5\u001b[0m   \u001b[38;5;66;03m# Find the K most similar training data points to each test data point.\u001b[39;00m\n",
      "\u001b[0;31mValueError\u001b[0m: cannot reshape array of size 16 into shape (16,5)"
     ]
    }
   ],
   "source": [
    "# Apply the KNN algorithm with k=3\n",
    "k = 3\n",
    "# y_pred = knn(X_train, y_train, X_test, k)\n",
    "y_pred1 = knn_classify(X_train, y_train, X_test, k) \n",
    "# Calculate accuracy\n",
    "accuracy = np.mean(y_pred == y_test)\n",
    "accuracy = np.mean(y_pred1 == y_test)\n",
    "print(\"Accuracy:\", accuracy)\n",
    "print(\"Accuracy1:\", accuracy)"
   ]
  },
  {
   "cell_type": "code",
   "execution_count": null,
   "id": "f1889d90",
   "metadata": {},
   "outputs": [],
   "source": []
  }
 ],
 "metadata": {
  "kernelspec": {
   "display_name": "Python 3 (ipykernel)",
   "language": "python",
   "name": "python3"
  },
  "language_info": {
   "codemirror_mode": {
    "name": "ipython",
    "version": 3
   },
   "file_extension": ".py",
   "mimetype": "text/x-python",
   "name": "python",
   "nbconvert_exporter": "python",
   "pygments_lexer": "ipython3",
   "version": "3.11.5"
  }
 },
 "nbformat": 4,
 "nbformat_minor": 5
}
