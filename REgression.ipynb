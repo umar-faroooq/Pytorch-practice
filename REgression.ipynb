{
 "cells": [
  {
   "cell_type": "code",
   "execution_count": 1,
   "id": "438bd1e3",
   "metadata": {},
   "outputs": [
    {
     "name": "stdout",
     "output_type": "stream",
     "text": [
      "2.0.1+cu117\n"
     ]
    }
   ],
   "source": [
    "import torch\n",
    "import torch.nn as nn\n",
    "import matplotlib.pyplot as plt\n",
    "\n",
    "print(torch.__version__)"
   ]
  },
  {
   "cell_type": "code",
   "execution_count": 2,
   "id": "22d5725a",
   "metadata": {},
   "outputs": [
    {
     "name": "stdout",
     "output_type": "stream",
     "text": [
      "Using device: cuda\n"
     ]
    }
   ],
   "source": [
    "device = \"cuda\" if torch.cuda.is_available() else 'cpu'\n",
    "print(f\"Using device: {device}\")"
   ]
  },
  {
   "cell_type": "code",
   "execution_count": 3,
   "id": "2608ee5a",
   "metadata": {},
   "outputs": [
    {
     "name": "stdout",
     "output_type": "stream",
     "text": [
      "Sat Nov  4 00:47:24 2023       \n",
      "+---------------------------------------------------------------------------------------+\n",
      "| NVIDIA-SMI 535.54.03              Driver Version: 535.54.03    CUDA Version: 12.2     |\n",
      "|-----------------------------------------+----------------------+----------------------+\n",
      "| GPU  Name                 Persistence-M | Bus-Id        Disp.A | Volatile Uncorr. ECC |\n",
      "| Fan  Temp   Perf          Pwr:Usage/Cap |         Memory-Usage | GPU-Util  Compute M. |\n",
      "|                                         |                      |               MIG M. |\n",
      "|=========================================+======================+======================|\n",
      "|   0  NVIDIA GeForce MX130           Off | 00000000:01:00.0 Off |                  N/A |\n",
      "| N/A   51C    P8              N/A / 200W |      6MiB /  2048MiB |      0%      Default |\n",
      "|                                         |                      |                  N/A |\n",
      "+-----------------------------------------+----------------------+----------------------+\n",
      "                                                                                         \n",
      "+---------------------------------------------------------------------------------------+\n",
      "| Processes:                                                                            |\n",
      "|  GPU   GI   CI        PID   Type   Process name                            GPU Memory |\n",
      "|        ID   ID                                                             Usage      |\n",
      "|=======================================================================================|\n",
      "|    0   N/A  N/A      2291      G   /usr/lib/xorg/Xorg                            2MiB |\n",
      "+---------------------------------------------------------------------------------------+\n"
     ]
    }
   ],
   "source": [
    "!nvidia-smi"
   ]
  },
  {
   "cell_type": "code",
   "execution_count": 4,
   "id": "d85b7b98",
   "metadata": {},
   "outputs": [
    {
     "data": {
      "text/plain": [
       "(tensor([[0.0000],\n",
       "         [0.0200],\n",
       "         [0.0400],\n",
       "         [0.0600],\n",
       "         [0.0800],\n",
       "         [0.1000],\n",
       "         [0.1200],\n",
       "         [0.1400],\n",
       "         [0.1600],\n",
       "         [0.1800]]),\n",
       " tensor([[0.1000],\n",
       "         [0.1060],\n",
       "         [0.1120],\n",
       "         [0.1180],\n",
       "         [0.1240],\n",
       "         [0.1300],\n",
       "         [0.1360],\n",
       "         [0.1420],\n",
       "         [0.1480],\n",
       "         [0.1540]]))"
      ]
     },
     "execution_count": 4,
     "metadata": {},
     "output_type": "execute_result"
    }
   ],
   "source": [
    "#Createn some data\\\n",
    "\n",
    "\n",
    "weight = 0.3\n",
    "bias = 0.1\n",
    "\n",
    "start = 0\n",
    "end = 1\n",
    "step = 0.02\n",
    "\n",
    "X = torch.arange(start, end, step).unsqueeze(dim=1)\n",
    "y = weight*X + bias\n",
    "\n",
    "X[:10], y[:10]"
   ]
  },
  {
   "cell_type": "code",
   "execution_count": 5,
   "id": "fd19883b",
   "metadata": {},
   "outputs": [
    {
     "data": {
      "text/plain": [
       "(40, 10, 40, 10)"
      ]
     },
     "execution_count": 5,
     "metadata": {},
     "output_type": "execute_result"
    }
   ],
   "source": [
    "train_split = int(0.8 * len(X))\n",
    "X_train, y_train = X[:train_split], y[:train_split]\n",
    "X_test, y_test = X[train_split:], y[train_split:]\n",
    "len(X_train), len(X_test), len(y_train), len(y_test)"
   ]
  },
  {
   "cell_type": "code",
   "execution_count": 6,
   "id": "da98e8a3",
   "metadata": {},
   "outputs": [],
   "source": [
    "def plot_predictions(train_data=X_train, \n",
    "                     train_labels=y_train, \n",
    "                     test_data=X_test, \n",
    "                     test_labels=y_test, \n",
    "                     predictions=None):\n",
    "    plt.figure(figsize=(10, 7))\n",
    "\n",
    "  # Plot training data in blue\n",
    "    plt.scatter(train_data, train_labels, c=\"b\", s=4, label=\"Training data\")\n",
    "  \n",
    "  # Plot test data in green\n",
    "    plt.scatter(test_data, test_labels, c=\"g\", s=4, label=\"Testing data\")\n",
    "\n",
    "    if predictions is not None:\n",
    "    # Plot the predictions in red (predictions were made on the test data)\n",
    "        plt.scatter(test_data, predictions, c=\"r\", s=4, label=\"Predictions\")\n",
    "\n",
    "  # Show the legend\n",
    "    plt.legend(prop={\"size\": 14});"
   ]
  },
  {
   "cell_type": "code",
   "execution_count": 7,
   "id": "c9f26576",
   "metadata": {},
   "outputs": [
    {
     "data": {
      "image/png": "[encoded data removed]",
      "text/plain": [
       "<Figure size 1000x700 with 1 Axes>"
      ]
     },
     "metadata": {},
     "output_type": "display_data"
    }
   ],
   "source": [
    "plot_predictions(X_train, y_train, X_test, y_test)"
   ]
  },
  {
   "cell_type": "code",
   "execution_count": 8,
   "id": "557667a9",
   "metadata": {},
   "outputs": [
    {
     "data": {
      "text/plain": [
       "(LinearRegression(\n",
       "   (linear_layer): Linear(in_features=1, out_features=1, bias=True)\n",
       " ),\n",
       " OrderedDict([('linear_layer.weight', tensor([[0.7645]])),\n",
       "              ('linear_layer.bias', tensor([0.8300]))]))"
      ]
     },
     "execution_count": 8,
     "metadata": {},
     "output_type": "execute_result"
    }
   ],
   "source": [
    "class LinearRegression(nn.Module):\n",
    "    def __init__(self):\n",
    "        super().__init__()\n",
    "        # USe nn.Linear for creating model parameters\n",
    "        self.linear_layer = nn.Linear(in_features=1, out_features=1)\n",
    "        \n",
    "    def forward(self, x: torch.Tensor) -> torch.Tensor:\n",
    "        return self.linear_layer(x)\n",
    "\n",
    "torch.manual_seed(42)\n",
    "model_1 = LinearRegression()\n",
    "model_1, model_1.state_dict()"
   ]
  },
  {
   "cell_type": "code",
   "execution_count": 9,
   "id": "b1139fdc",
   "metadata": {},
   "outputs": [
    {
     "data": {
      "text/plain": [
       "device(type='cpu')"
      ]
     },
     "execution_count": 9,
     "metadata": {},
     "output_type": "execute_result"
    }
   ],
   "source": [
    "# sset the model to use target device \n",
    "next(model_1.parameters()).device"
   ]
  },
  {
   "cell_type": "code",
   "execution_count": 10,
   "id": "b4c0e5e7",
   "metadata": {},
   "outputs": [
    {
     "data": {
      "text/plain": [
       "device(type='cuda', index=0)"
      ]
     },
     "execution_count": 10,
     "metadata": {},
     "output_type": "execute_result"
    }
   ],
   "source": [
    "model_1.to(device)\n",
    "next(model_1.parameters()).device"
   ]
  },
  {
   "cell_type": "code",
   "execution_count": 11,
   "id": "0f7e1408",
   "metadata": {},
   "outputs": [],
   "source": [
    "# loss function\n",
    "# optimizer\n",
    "# training loop\n",
    "\n",
    "loss_fn = nn.L1Loss()\n",
    "optimizer = torch.optim.SGD(params = model_1.parameters(), lr=0.01)\n"
   ]
  },
  {
   "cell_type": "code",
   "execution_count": 12,
   "id": "c2952fcf",
   "metadata": {},
   "outputs": [
    {
     "name": "stdout",
     "output_type": "stream",
     "text": [
      "Epoch: 0 | Loss: 0.911177933216095 | Test Loss: 1.1299762725830078\n",
      "Epoch: 10 | Loss: 0.7959680557250977 | Test Loss: 0.9952663779258728\n",
      "Epoch: 20 | Loss: 0.6807581782341003 | Test Loss: 0.8605566024780273\n",
      "Epoch: 30 | Loss: 0.5655483603477478 | Test Loss: 0.7258467078208923\n",
      "Epoch: 40 | Loss: 0.4503384530544281 | Test Loss: 0.5911369323730469\n",
      "Epoch: 50 | Loss: 0.3351285755634308 | Test Loss: 0.45642709732055664\n",
      "Epoch: 60 | Loss: 0.21991868317127228 | Test Loss: 0.32171720266342163\n",
      "Epoch: 70 | Loss: 0.10470864921808243 | Test Loss: 0.18700723350048065\n",
      "Epoch: 80 | Loss: 0.03314550593495369 | Test Loss: 0.08882324397563934\n",
      "Epoch: 90 | Loss: 0.026351824402809143 | Test Loss: 0.06310085207223892\n",
      "Epoch: 100 | Loss: 0.022874142974615097 | Test Loss: 0.05276774242520332\n",
      "Epoch: 110 | Loss: 0.019435811787843704 | Test Loss: 0.04449528828263283\n",
      "Epoch: 120 | Loss: 0.01600063219666481 | Test Loss: 0.036909736692905426\n",
      "Epoch: 130 | Loss: 0.012570987455546856 | Test Loss: 0.028637295588850975\n",
      "Epoch: 140 | Loss: 0.009132175706326962 | Test Loss: 0.020364854484796524\n",
      "Epoch: 150 | Loss: 0.005698665976524353 | Test Loss: 0.01277931034564972\n",
      "Epoch: 160 | Loss: 0.0022697513923048973 | Test Loss: 0.0038288712967187166\n",
      "Epoch: 170 | Loss: 0.0075608850456774235 | Test Loss: 0.001355719636194408\n",
      "Epoch: 180 | Loss: 0.0075608850456774235 | Test Loss: 0.001355719636194408\n",
      "Epoch: 190 | Loss: 0.0075608850456774235 | Test Loss: 0.001355719636194408\n"
     ]
    }
   ],
   "source": [
    "import numpy as np\n",
    "torch.manual_seed(42)\n",
    "Epochs = 200\n",
    "\n",
    "# put data on the target device\n",
    "X_train = X_train.to(device)\n",
    "X_test = X_test.to(device)\n",
    "y_train = y_train.to(device)\n",
    "y_test = y_test.to(device)\n",
    "\n",
    "\n",
    "for epoch in range(Epochs):\n",
    "    \n",
    "    model_1.train()\n",
    "    \n",
    "    #1 foraward pass\n",
    "    \n",
    "    y_pred = model_1(X_train)\n",
    "    \n",
    "    # 2. Calculate loss\n",
    "    \n",
    "    training_loss = loss_fn(y_pred, y_train)\n",
    "#     current_loss = loss_fn(y_pred, y_train)\n",
    "    \n",
    "    # 3. zero the gradients\n",
    "    \n",
    "    optimizer.zero_grad()\n",
    "    \n",
    "    # 4. perform back propagation\n",
    "    \n",
    "    training_loss.backward()\n",
    "    \n",
    "    # 5. optimization\n",
    "    \n",
    "    optimizer.step()\n",
    "    \n",
    "    model_1.eval()\n",
    "    with torch.inference_mode():\n",
    "        test_pred = model_1(X_test)\n",
    "        \n",
    "        test_loss = loss_fn(test_pred, y_test)\n",
    "        \n",
    "    if epoch % 10 == 0:\n",
    "        print(f'Epoch: {epoch} | Loss: {training_loss} | Test Loss: {test_loss}')\n"
   ]
  },
  {
   "cell_type": "code",
   "execution_count": 13,
   "id": "cf7e350a",
   "metadata": {},
   "outputs": [
    {
     "data": {
      "text/plain": [
       "OrderedDict([('linear_layer.weight', tensor([[0.3091]], device='cuda:0')),\n",
       "             ('linear_layer.bias', tensor([0.1040], device='cuda:0'))])"
      ]
     },
     "execution_count": 13,
     "metadata": {},
     "output_type": "execute_result"
    }
   ],
   "source": [
    "model_1.state_dict()"
   ]
  },
  {
   "cell_type": "code",
   "execution_count": null,
   "id": "e4d4e2bb",
   "metadata": {},
   "outputs": [],
   "source": []
  },
  {
   "cell_type": "code",
   "execution_count": 14,
   "id": "12a41628",
   "metadata": {},
   "outputs": [
    {
     "data": {
      "image/png": "[encoded data removed]",
      "text/plain": [
       "<Figure size 1000x700 with 1 Axes>"
      ]
     },
     "metadata": {},
     "output_type": "display_data"
    }
   ],
   "source": [
    "plot_predictions(predictions=test_pred.cpu())"
   ]
  },
  {
   "cell_type": "code",
   "execution_count": 27,
   "id": "b824a548",
   "metadata": {},
   "outputs": [],
   "source": [
    "torch.save(model_1, \"models/01_pytorch_workflow.pth\")"
   ]
  },
  {
   "cell_type": "code",
   "execution_count": 28,
   "id": "a9df9bee",
   "metadata": {},
   "outputs": [],
   "source": [
    "my_model = torch.load(\"models/01_pytorch_workflow.pth\")"
   ]
  },
  {
   "cell_type": "code",
   "execution_count": 29,
   "id": "3001a2d0",
   "metadata": {},
   "outputs": [
    {
     "data": {
      "text/plain": [
       "OrderedDict([('linear_layer.weight', tensor([[0.3091]], device='cuda:0')),\n",
       "             ('linear_layer.bias', tensor([0.1040], device='cuda:0'))])"
      ]
     },
     "execution_count": 29,
     "metadata": {},
     "output_type": "execute_result"
    }
   ],
   "source": [
    "my_model.state_dict()"
   ]
  },
  {
   "cell_type": "code",
   "execution_count": null,
   "id": "acf98117",
   "metadata": {},
   "outputs": [],
   "source": []
  },
  {
   "cell_type": "code",
   "execution_count": 33,
   "id": "5e499f87",
   "metadata": {},
   "outputs": [
    {
     "name": "stdout",
     "output_type": "stream",
     "text": [
      "SAving Model to: models/01_pytorch_workflow_model_1.pth\n"
     ]
    }
   ],
   "source": [
    "### saving and loading a trained model \n",
    "from pathlib import Path\n",
    "\n",
    "\n",
    "#create model directory\n",
    "MODEL_PATH = Path(\"models\")\n",
    "MODEL_PATH.mkdir(parents=True, exist_ok=True)\n",
    "\n",
    "\n",
    " # create model save path\n",
    "MODEL_NAME = \"01_pytorch_workflow_model_1.pth\"\n",
    "MODEL_SAVE_PATH =  MODEL_PATH/MODEL_NAME\n",
    "    \n",
    "    #save the mdoel state dict\n",
    "    \n",
    "print(f\"SAving Model to: {MODEL_SAVE_PATH}\")\n",
    "    \n",
    "torch.save(obj=model_1.state_dict(), f= MODEL_SAVE_PATH)"
   ]
  },
  {
   "cell_type": "code",
   "execution_count": 34,
   "id": "b768b28c",
   "metadata": {},
   "outputs": [
    {
     "data": {
      "text/plain": [
       "<All keys matched successfully>"
      ]
     },
     "execution_count": 34,
     "metadata": {},
     "output_type": "execute_result"
    }
   ],
   "source": [
    "loaded_model= LinearRegression()\n",
    "loaded_model.load_state_dict(torch.load(f=\"models/01_pytorch_workflow_model_1.pth\"))"
   ]
  },
  {
   "cell_type": "code",
   "execution_count": 38,
   "id": "ce4d2a79",
   "metadata": {},
   "outputs": [
    {
     "data": {
      "text/plain": [
       "LinearRegression(\n",
       "  (linear_layer): Linear(in_features=1, out_features=1, bias=True)\n",
       ")"
      ]
     },
     "execution_count": 38,
     "metadata": {},
     "output_type": "execute_result"
    }
   ],
   "source": [
    "\n",
    "loaded_model.state_dict()\n",
    "loaded_model.to(device)"
   ]
  },
  {
   "cell_type": "code",
   "execution_count": 36,
   "id": "9b2fb106",
   "metadata": {},
   "outputs": [],
   "source": [
    "new_loaded = torch.load(\"models/01_pytorch_workflow.pth\")"
   ]
  },
  {
   "cell_type": "code",
   "execution_count": 37,
   "id": "9c1825f3",
   "metadata": {},
   "outputs": [
    {
     "data": {
      "text/plain": [
       "LinearRegression(\n",
       "  (linear_layer): Linear(in_features=1, out_features=1, bias=True)\n",
       ")"
      ]
     },
     "execution_count": 37,
     "metadata": {},
     "output_type": "execute_result"
    }
   ],
   "source": [
    "# new_loaded\n",
    "new_loaded.state_dict()\n",
    "new_loaded.to(device)"
   ]
  },
  {
   "cell_type": "code",
   "execution_count": 39,
   "id": "00a32d6d",
   "metadata": {},
   "outputs": [
    {
     "data": {
      "text/plain": [
       "device(type='cuda', index=0)"
      ]
     },
     "execution_count": 39,
     "metadata": {},
     "output_type": "execute_result"
    }
   ],
   "source": [
    "next(loaded_model.parameters()).device"
   ]
  },
  {
   "cell_type": "code",
   "execution_count": 40,
   "id": "0eb7521c",
   "metadata": {},
   "outputs": [
    {
     "data": {
      "text/plain": [
       "tensor([[0.3513],\n",
       "        [0.3575],\n",
       "        [0.3637],\n",
       "        [0.3698],\n",
       "        [0.3760],\n",
       "        [0.3822],\n",
       "        [0.3884],\n",
       "        [0.3946],\n",
       "        [0.4008],\n",
       "        [0.4069]], device='cuda:0')"
      ]
     },
     "execution_count": 40,
     "metadata": {},
     "output_type": "execute_result"
    }
   ],
   "source": [
    "loaded_model.eval()\n",
    "with torch.inference_mode():\n",
    "    y_predss = loaded_model(X_test)\n",
    "y_predss"
   ]
  },
  {
   "cell_type": "code",
   "execution_count": 41,
   "id": "808f602b",
   "metadata": {},
   "outputs": [
    {
     "data": {
      "text/plain": [
       "tensor([[True],\n",
       "        [True],\n",
       "        [True],\n",
       "        [True],\n",
       "        [True],\n",
       "        [True],\n",
       "        [True],\n",
       "        [True],\n",
       "        [True],\n",
       "        [True]], device='cuda:0')"
      ]
     },
     "execution_count": 41,
     "metadata": {},
     "output_type": "execute_result"
    }
   ],
   "source": [
    "test_pred == y_predss"
   ]
  },
  {
   "cell_type": "code",
   "execution_count": null,
   "id": "1f8296ec",
   "metadata": {},
   "outputs": [],
   "source": []
  }
 ],
 "metadata": {
  "kernelspec": {
   "display_name": "Python 3 (ipykernel)",
   "language": "python",
   "name": "python3"
  },
  "language_info": {
   "codemirror_mode": {
    "name": "ipython",
    "version": 3
   },
   "file_extension": ".py",
   "mimetype": "text/x-python",
   "name": "python",
   "nbconvert_exporter": "python",
   "pygments_lexer": "ipython3",
   "version": "3.11.5"
  }
 },
 "nbformat": 4,
 "nbformat_minor": 5
}
